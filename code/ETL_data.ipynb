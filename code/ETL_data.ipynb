{
 "cells": [
  {
   "cell_type": "code",
   "execution_count": 1,
   "id": "201eafe8",
   "metadata": {},
   "outputs": [],
   "source": [
    "import pandas as pd\n",
    "import numpy as np\n",
    "import requests\n",
    "from pprint import pprint\n",
    "from collections import Counter\n",
    "from functools import wraps\n",
    "import logging\n",
    "# !pip3 install openpyxl"
   ]
  },
  {
   "cell_type": "code",
   "execution_count": 2,
   "id": "c4ec5406",
   "metadata": {},
   "outputs": [],
   "source": [
    "# logger = logging.getLogger()\n",
    "# fhandler = logging.FileHandler(filename='mylog.log', mode='a')\n",
    "# formatter = logging.Formatter('%(asctime)s - %(name)s - %(levelname)s - %(message)s')\n",
    "# fhandler.setFormatter(formatter)\n",
    "# logger.addHandler(fhandler)\n",
    "# logger.setLevel(logging.DEBUG)\n",
    "# logging.error('hello!')\n",
    "# logging.debug('This is a debug message')\n",
    "# logging.info('this is an info message')\n",
    "# logging.warning('tbllalfhldfhd, warning.')"
   ]
  },
  {
   "cell_type": "markdown",
   "id": "fa804a8d",
   "metadata": {},
   "source": [
    "# Util Functions"
   ]
  },
  {
   "cell_type": "code",
   "execution_count": 3,
   "id": "b01001f0",
   "metadata": {},
   "outputs": [],
   "source": [
    "def log_fn(function):\n",
    "    def decorator(f):\n",
    "        @wraps(f)\n",
    "        def wrapper(*args, **kwargs):\n",
    "            res = f(*args, **kwargs)\n",
    "            logging.info(\"Testando funcao\")\n",
    "            print(function)\n",
    "            return res\n",
    "        return wrapper\n",
    "    return decorator\n",
    "\n",
    "\n",
    "@log_fn(\"download_data\")\n",
    "def download_data(data_sources):\n",
    "    to_remove = []\n",
    "    for file_name, download_link in data_sources.items():\n",
    "        try:\n",
    "            print(f\"Downloading: {file_name}, from: {download_link}\")\n",
    "            df = pd.read_excel(download_link)\n",
    "            df.to_csv(f\"../input/{file_name}.csv\")\n",
    "            del(df)\n",
    "        except:\n",
    "            to_remove.append(file_name)\n",
    "            print(f\"Download error for file {file_name}, link invalido {download_link}\")\n",
    "    data_sources = to_remove_missing_file(data_sources, to_remove)\n",
    "    return data_sources\n",
    "\n",
    "\n",
    "@log_fn(\"to_remove_missing_file\")\n",
    "def to_remove_missing_file(data_sources, to_remove):\n",
    "    for remove in to_remove:\n",
    "        data_sources.pop(remove)\n",
    "    return data_sources\n",
    "\n",
    "\n",
    "@log_fn(\"create_architecture_table\")\n",
    "def create_architecture_table(df, columns_description):\n",
    "    architecture = pd.DataFrame(\n",
    "        columns = [\n",
    "            \"nome\",\n",
    "            \"tipo\",\n",
    "            \"descricao\",\n",
    "            \"cobertura_temporal\",\n",
    "            \"dicionario\",\n",
    "            \"coluna_diretorio\",\n",
    "            \"unidade_medida\",\n",
    "            \"nome_original\"\n",
    "        ]\n",
    "    )\n",
    "    for index, column in enumerate(df.columns):\n",
    "        new_row = {\n",
    "            'nome': column.lower().replace(\" \", \"_\"),\n",
    "            'tipo': df.dtypes[column] if df.dtypes[column] != object else 'string',\n",
    "            'descricao': columns_description.iloc[:, index].values[0],\n",
    "            'cobertura_temporal': \"1996~2012\",\n",
    "            'dicionario': np.nan,\n",
    "            'coluna_diretorio': np.nan,\n",
    "            'unidade_medida': np.nan,\n",
    "            'nome_original': column\n",
    "        }\n",
    "        architecture = architecture.append(new_row, ignore_index=True)\n",
    "    return architecture\n",
    "\n",
    "\n",
    "@log_fn(\"rename_column_guide\")\n",
    "def rename_column_by_guide(df):\n",
    "    df_columns = df.columns.str.lower()\n",
    "    df_columns = df_columns.str.replace(\" \", \"_\")\n",
    "    return df_columns"
   ]
  },
  {
   "cell_type": "markdown",
   "id": "395b6ae3",
   "metadata": {},
   "source": [
    "---\n",
    "# Download data to input folder"
   ]
  },
  {
   "cell_type": "code",
   "execution_count": 4,
   "id": "e6e4008c",
   "metadata": {},
   "outputs": [
    {
     "name": "stdout",
     "output_type": "stream",
     "text": [
      "Downloading: chronic_g_day_to_t_pop, from: http://www.efsa.europa.eu/sites/default/files/chronicgdaytotpop.xlsx\n",
      "Downloading: chronic_g_day_bw_to_t_pop, from: http://www.efsa.europa.eu/sites/default/files/chronicgdaybwtotpop.xlsx\n",
      "Downloading: chronic_g_day_consumers, from: http://www.efsa.europa.eu/sites/default/files/chronicgdayconsumers.xlsx\n",
      "Downloading: chronic_g_day_bw_consumers, from: http://www.efsa.europa.eu/sites/default/files/chronicgdaybwconsumers.xlsx\n",
      "Downloading: acute_g_day_all_days, from: https://dwh.efsa.europa.eu/bi/asp/Main.aspx?rwtrep=008\n",
      "Download error for file acute_g_day_all_days, link invalido https://dwh.efsa.europa.eu/bi/asp/Main.aspx?rwtrep=008\n",
      "Downloading: acute_g_day_bw_all_days, from: http://www.efsa.europa.eu/sites/default/files/acutegdaybwalldays.xlsx\n",
      "Downloading: acute_g_day_cons_days, from: http://www.efsa.europa.eu/sites/default/files/acutegdayconsdays.xlsx\n",
      "Downloading: acute_g_day_bw_cons_days, from: http://www.efsa.europa.eu/sites/default/files/acutegdaybwconsdays.xlsx\n",
      "Downloading: ESFA_CONSUMPTION_DASHBOARD_FORMAT, from: https://data.europa.eu/euodp/repository/ec/efsa/ESFA_CONSUMPTION_DASHBOARD_FORMAT.xlsx\n",
      "to_remove_missing_file\n",
      "download_data\n"
     ]
    }
   ],
   "source": [
    "data_sources = {\n",
    "    \"chronic_g_day_to_t_pop\": 'http://www.efsa.europa.eu/sites/default/files/chronicgdaytotpop.xlsx',\n",
    "    \"chronic_g_day_bw_to_t_pop\": 'http://www.efsa.europa.eu/sites/default/files/chronicgdaybwtotpop.xlsx',\n",
    "    \"chronic_g_day_consumers\": 'http://www.efsa.europa.eu/sites/default/files/chronicgdayconsumers.xlsx',\n",
    "    \"chronic_g_day_bw_consumers\": 'http://www.efsa.europa.eu/sites/default/files/chronicgdaybwconsumers.xlsx',\n",
    "    \"acute_g_day_all_days\": 'https://dwh.efsa.europa.eu/bi/asp/Main.aspx?rwtrep=008',\n",
    "    \"acute_g_day_bw_all_days\": 'http://www.efsa.europa.eu/sites/default/files/acutegdaybwalldays.xlsx',\n",
    "    \"acute_g_day_cons_days\": 'http://www.efsa.europa.eu/sites/default/files/acutegdayconsdays.xlsx',\n",
    "    \"acute_g_day_bw_cons_days\": 'http://www.efsa.europa.eu/sites/default/files/acutegdaybwconsdays.xlsx',\n",
    "    \"ESFA_CONSUMPTION_DASHBOARD_FORMAT\": 'https://data.europa.eu/euodp/repository/ec/efsa/ESFA_CONSUMPTION_DASHBOARD_FORMAT.xlsx',\n",
    "}\n",
    "data_sources = download_data(data_sources)"
   ]
  },
  {
   "cell_type": "markdown",
   "id": "3a41d188",
   "metadata": {},
   "source": [
    "---\n",
    "# Load data"
   ]
  },
  {
   "cell_type": "code",
   "execution_count": 5,
   "id": "35158231",
   "metadata": {},
   "outputs": [],
   "source": [
    "loaded_files = {}\n",
    "columns_description = {}"
   ]
  },
  {
   "cell_type": "code",
   "execution_count": 6,
   "id": "5ac9a045",
   "metadata": {
    "scrolled": true
   },
   "outputs": [
    {
     "name": "stderr",
     "output_type": "stream",
     "text": [
      "/home/martoso/.local/lib/python3.8/site-packages/IPython/core/interactiveshell.py:3012: DtypeWarning: Columns (12,14,16,18,20) have mixed types.Specify dtype option on import or set low_memory=False.\n",
      "  has_raised = await self.run_ast_nodes(code_ast.body, cell_name,\n"
     ]
    }
   ],
   "source": [
    "for file_name, link in data_sources.items():\n",
    "    input_file = f\"../input/{file_name}.csv\"\n",
    "    loaded_files[file_name] = pd.read_csv(input_file, header=2).iloc[:,1:]\n",
    "    columns_description[file_name] = pd.read_csv(input_file, nrows = 1).iloc[:,1:]"
   ]
  },
  {
   "cell_type": "markdown",
   "id": "ad1d34cc",
   "metadata": {},
   "source": [
    "---\n",
    "# Create Architecture Table"
   ]
  },
  {
   "cell_type": "code",
   "execution_count": 7,
   "id": "1beb27f6",
   "metadata": {},
   "outputs": [],
   "source": [
    "table_architecture = {}"
   ]
  },
  {
   "cell_type": "code",
   "execution_count": 8,
   "id": "4bdb0200",
   "metadata": {},
   "outputs": [
    {
     "name": "stdout",
     "output_type": "stream",
     "text": [
      "create_architecture_table\n",
      "create_architecture_table\n",
      "create_architecture_table\n",
      "create_architecture_table\n",
      "create_architecture_table\n",
      "create_architecture_table\n",
      "create_architecture_table\n",
      "create_architecture_table\n"
     ]
    }
   ],
   "source": [
    "for file_name, dataframe in loaded_files.items():\n",
    "    table_architecture[file_name] = create_architecture_table(dataframe, columns_description[file_name])"
   ]
  },
  {
   "cell_type": "markdown",
   "id": "65388d44",
   "metadata": {},
   "source": [
    "---\n",
    "# Change columns name"
   ]
  },
  {
   "cell_type": "code",
   "execution_count": 9,
   "id": "1d957afe",
   "metadata": {
    "scrolled": true
   },
   "outputs": [
    {
     "name": "stdout",
     "output_type": "stream",
     "text": [
      "rename_column_guide\n",
      "rename_column_guide\n",
      "rename_column_guide\n",
      "rename_column_guide\n",
      "rename_column_guide\n",
      "rename_column_guide\n",
      "rename_column_guide\n",
      "rename_column_guide\n"
     ]
    }
   ],
   "source": [
    "for file_name, dataframe in loaded_files.items():\n",
    "    dataframe.columns = rename_column_by_guide(dataframe)"
   ]
  },
  {
   "cell_type": "markdown",
   "id": "4a44fc6b",
   "metadata": {},
   "source": [
    "---\n",
    "# Round data to 2 decimal places"
   ]
  },
  {
   "cell_type": "code",
   "execution_count": 10,
   "id": "1b2845df",
   "metadata": {
    "scrolled": true
   },
   "outputs": [],
   "source": [
    "for file_name, dataframe in loaded_files.items():\n",
    "    dataframe = dataframe.round(2)"
   ]
  },
  {
   "cell_type": "markdown",
   "id": "de618f74",
   "metadata": {},
   "source": [
    "---\n",
    "# Save Correct dataframe to output"
   ]
  },
  {
   "cell_type": "code",
   "execution_count": 11,
   "id": "76cf33a5",
   "metadata": {},
   "outputs": [],
   "source": [
    "for file_name, dataframe in loaded_files.items():\n",
    "    dataframe.to_parquet(f\"../output/{file_name}.parquet\")"
   ]
  },
  {
   "cell_type": "code",
   "execution_count": 12,
   "id": "2be4b61b",
   "metadata": {
    "scrolled": true
   },
   "outputs": [],
   "source": [
    "for file_name, dataframe in table_architecture.items():\n",
    "    dataframe.to_csv(f\"../output/dictionary/{file_name}.csv\", index=False)"
   ]
  }
 ],
 "metadata": {
  "kernelspec": {
   "display_name": "Python 3 (ipykernel)",
   "language": "python",
   "name": "python3"
  },
  "language_info": {
   "codemirror_mode": {
    "name": "ipython",
    "version": 3
   },
   "file_extension": ".py",
   "mimetype": "text/x-python",
   "name": "python",
   "nbconvert_exporter": "python",
   "pygments_lexer": "ipython3",
   "version": "3.8.10"
  }
 },
 "nbformat": 4,
 "nbformat_minor": 5
}
