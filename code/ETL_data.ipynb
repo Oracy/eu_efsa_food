{
 "cells": [
  {
   "cell_type": "code",
   "execution_count": 1,
   "id": "201eafe8",
   "metadata": {},
   "outputs": [],
   "source": [
    "import pandas as pd\n",
    "import numpy as np\n",
    "import requests\n",
    "from pprint import pprint\n",
    "from collections import Counter\n",
    "from functools import wraps\n",
    "import logging\n",
    "# !pip3 install openpyxl"
   ]
  },
  {
   "cell_type": "code",
   "execution_count": 2,
   "id": "c4ec5406",
   "metadata": {},
   "outputs": [],
   "source": [
    "# logger = logging.getLogger()\n",
    "# fhandler = logging.FileHandler(filename='mylog.log', mode='a')\n",
    "# formatter = logging.Formatter('%(asctime)s - %(name)s - %(levelname)s - %(message)s')\n",
    "# fhandler.setFormatter(formatter)\n",
    "# logger.addHandler(fhandler)\n",
    "# logger.setLevel(logging.DEBUG)\n",
    "# logging.error('hello!')\n",
    "# logging.debug('This is a debug message')\n",
    "# logging.info('this is an info message')\n",
    "# logging.warning('tbllalfhldfhd, warning.')"
   ]
  },
  {
   "cell_type": "markdown",
   "id": "fa804a8d",
   "metadata": {},
   "source": [
    "# Util Functions"
   ]
  },
  {
   "cell_type": "code",
   "execution_count": 13,
   "id": "b01001f0",
   "metadata": {},
   "outputs": [],
   "source": [
    "def log_fn(function):\n",
    "    def decorator(f):\n",
    "        @wraps(f)\n",
    "        def wrapper(*args, **kwargs):\n",
    "            res = f(*args, **kwargs)\n",
    "            logging.info(\"Testando funcao\")\n",
    "            print(function)\n",
    "            return res\n",
    "        return wrapper\n",
    "    return decorator\n",
    "\n",
    "\n",
    "@log_fn(\"download_data\")\n",
    "def download_data(data_sources):\n",
    "    to_remove = []\n",
    "    for file_name, download_link in data_sources.items():\n",
    "        try:\n",
    "            print(f\"Downloading: {file_name}, from: {download_link}\")\n",
    "            df = pd.read_excel(download_link)\n",
    "            df.to_csv(f\"../input/{file_name}.csv\")\n",
    "            del(df)\n",
    "        except:\n",
    "            to_remove.append(file_name)\n",
    "            print(f\"Download error for file {file_name}, link invalido {download_link}\")\n",
    "    data_sources = to_remove_missing_file(data_sources, to_remove)\n",
    "    return data_sources\n",
    "\n",
    "\n",
    "@log_fn(\"to_remove_missing_file\")\n",
    "def to_remove_missing_file(data_sources, to_remove):\n",
    "    for remove in to_remove:\n",
    "        data_sources.pop(remove)\n",
    "    return data_sources\n",
    "\n",
    "\n",
    "@log_fn(\"create_architecture_table\")\n",
    "def create_architecture_table(df, columns_description):\n",
    "    architecture = pd.DataFrame(\n",
    "        columns = [\n",
    "            \"nome\",\n",
    "            \"tipo\",\n",
    "            \"descricao\",\n",
    "            \"cobertura_temporal\",\n",
    "            \"dicionario\",\n",
    "            \"coluna_diretorio\",\n",
    "            \"unidade_medida\",\n",
    "            \"nome_original\"\n",
    "        ]\n",
    "    )\n",
    "    for index, column in enumerate(df.columns):\n",
    "        new_row = {\n",
    "            'nome': column.lower().replace(\" \", \"_\"),\n",
    "            'tipo': df.dtypes[column] if df.dtypes[column] != object else 'string',\n",
    "            'descricao': columns_description.iloc[:, index].values[0],\n",
    "            'cobertura_temporal': \"1996~2012\",\n",
    "            'dicionario': np.nan,\n",
    "            'coluna_diretorio': np.nan,\n",
    "            'unidade_medida': np.nan,\n",
    "            'nome_original': column\n",
    "        }\n",
    "        architecture = architecture.append(new_row, ignore_index=True)\n",
    "    return architecture\n",
    "\n",
    "\n",
    "@log_fn(\"rename_column_guide\")\n",
    "def rename_column_by_guide(df):\n",
    "    df_columns = df.columns.str.lower()\n",
    "    df_columns = df_columns.str.replace(\" \", \"_\")\n",
    "    return df_columns\n",
    "\n",
    "\n",
    "@log_fn(\"remove_percentage_signal\")\n",
    "def remove_percentage_signal(df):\n",
    "    df_columns = df.columns.str\n",
    "    df_columns = df_columns.str.replace(\"%\", \"percentage\")\n",
    "    return df_columns"
   ]
  },
  {
   "cell_type": "markdown",
   "id": "395b6ae3",
   "metadata": {},
   "source": [
    "---\n",
    "# Download data to input folder"
   ]
  },
  {
   "cell_type": "code",
   "execution_count": 4,
   "id": "e6e4008c",
   "metadata": {},
   "outputs": [
    {
     "name": "stdout",
     "output_type": "stream",
     "text": [
      "Downloading: chronic_g_day_to_t_pop, from: http://www.efsa.europa.eu/sites/default/files/chronicgdaytotpop.xlsx\n",
      "Downloading: chronic_g_day_bw_to_t_pop, from: http://www.efsa.europa.eu/sites/default/files/chronicgdaybwtotpop.xlsx\n",
      "Downloading: chronic_g_day_consumers, from: http://www.efsa.europa.eu/sites/default/files/chronicgdayconsumers.xlsx\n",
      "Downloading: chronic_g_day_bw_consumers, from: http://www.efsa.europa.eu/sites/default/files/chronicgdaybwconsumers.xlsx\n",
      "Downloading: acute_g_day_all_days, from: https://dwh.efsa.europa.eu/bi/asp/Main.aspx?rwtrep=008\n",
      "Download error for file acute_g_day_all_days, link invalido https://dwh.efsa.europa.eu/bi/asp/Main.aspx?rwtrep=008\n",
      "Downloading: acute_g_day_bw_all_days, from: http://www.efsa.europa.eu/sites/default/files/acutegdaybwalldays.xlsx\n",
      "Downloading: acute_g_day_cons_days, from: http://www.efsa.europa.eu/sites/default/files/acutegdayconsdays.xlsx\n",
      "Downloading: acute_g_day_bw_cons_days, from: http://www.efsa.europa.eu/sites/default/files/acutegdaybwconsdays.xlsx\n",
      "to_remove_missing_file\n",
      "download_data\n"
     ]
    }
   ],
   "source": [
    "data_sources = {\n",
    "    \"chronic_g_day_to_t_pop\": 'http://www.efsa.europa.eu/sites/default/files/chronicgdaytotpop.xlsx',\n",
    "    \"chronic_g_day_bw_to_t_pop\": 'http://www.efsa.europa.eu/sites/default/files/chronicgdaybwtotpop.xlsx',\n",
    "    \"chronic_g_day_consumers\": 'http://www.efsa.europa.eu/sites/default/files/chronicgdayconsumers.xlsx',\n",
    "    \"chronic_g_day_bw_consumers\": 'http://www.efsa.europa.eu/sites/default/files/chronicgdaybwconsumers.xlsx',\n",
    "    \"acute_g_day_all_days\": 'https://dwh.efsa.europa.eu/bi/asp/Main.aspx?rwtrep=008',\n",
    "    \"acute_g_day_bw_all_days\": 'http://www.efsa.europa.eu/sites/default/files/acutegdaybwalldays.xlsx',\n",
    "    \"acute_g_day_cons_days\": 'http://www.efsa.europa.eu/sites/default/files/acutegdayconsdays.xlsx',\n",
    "    \"acute_g_day_bw_cons_days\": 'http://www.efsa.europa.eu/sites/default/files/acutegdaybwconsdays.xlsx',\n",
    "#     \"ESFA_CONSUMPTION_DASHBOARD_FORMAT\": 'https://data.europa.eu/euodp/repository/ec/efsa/ESFA_CONSUMPTION_DASHBOARD_FORMAT.xlsx',\n",
    "}\n",
    "data_sources = download_data(data_sources)"
   ]
  },
  {
   "cell_type": "markdown",
   "id": "3a41d188",
   "metadata": {},
   "source": [
    "---\n",
    "# Load data"
   ]
  },
  {
   "cell_type": "code",
   "execution_count": 5,
   "id": "35158231",
   "metadata": {},
   "outputs": [],
   "source": [
    "loaded_files = {}\n",
    "columns_description = {}"
   ]
  },
  {
   "cell_type": "code",
   "execution_count": 6,
   "id": "5ac9a045",
   "metadata": {
    "scrolled": true
   },
   "outputs": [],
   "source": [
    "for file_name, link in data_sources.items():\n",
    "    input_file = f\"../input/{file_name}.csv\"\n",
    "    loaded_files[file_name] = pd.read_csv(input_file, header=2).iloc[:,1:]\n",
    "    columns_description[file_name] = pd.read_csv(input_file, nrows = 1).iloc[:,1:]"
   ]
  },
  {
   "cell_type": "markdown",
   "id": "ad1d34cc",
   "metadata": {},
   "source": [
    "---\n",
    "# Create Architecture Table"
   ]
  },
  {
   "cell_type": "code",
   "execution_count": 7,
   "id": "1beb27f6",
   "metadata": {},
   "outputs": [],
   "source": [
    "table_architecture = {}"
   ]
  },
  {
   "cell_type": "code",
   "execution_count": 8,
   "id": "4bdb0200",
   "metadata": {},
   "outputs": [
    {
     "name": "stdout",
     "output_type": "stream",
     "text": [
      "create_architecture_table\n",
      "create_architecture_table\n",
      "create_architecture_table\n",
      "create_architecture_table\n",
      "create_architecture_table\n",
      "create_architecture_table\n",
      "create_architecture_table\n"
     ]
    }
   ],
   "source": [
    "for file_name, dataframe in loaded_files.items():\n",
    "    table_architecture[file_name] = create_architecture_table(dataframe, columns_description[file_name])"
   ]
  },
  {
   "cell_type": "markdown",
   "id": "65388d44",
   "metadata": {},
   "source": [
    "---\n",
    "# Change columns name"
   ]
  },
  {
   "cell_type": "code",
   "execution_count": 9,
   "id": "1d957afe",
   "metadata": {
    "scrolled": true
   },
   "outputs": [
    {
     "name": "stdout",
     "output_type": "stream",
     "text": [
      "rename_column_guide\n",
      "rename_column_guide\n",
      "rename_column_guide\n",
      "rename_column_guide\n",
      "rename_column_guide\n",
      "rename_column_guide\n",
      "rename_column_guide\n"
     ]
    }
   ],
   "source": [
    "for file_name, dataframe in loaded_files.items():\n",
    "    dataframe.columns = rename_column_by_guide(dataframe)"
   ]
  },
  {
   "cell_type": "markdown",
   "id": "09e8a091",
   "metadata": {},
   "source": [
    "---\n",
    "# Change columns name"
   ]
  },
  {
   "cell_type": "code",
   "execution_count": 14,
   "id": "53374905",
   "metadata": {},
   "outputs": [
    {
     "ename": "AttributeError",
     "evalue": "'StringMethods' object has no attribute 'str'",
     "output_type": "error",
     "traceback": [
      "\u001b[0;31m---------------------------------------------------------------------------\u001b[0m",
      "\u001b[0;31mAttributeError\u001b[0m                            Traceback (most recent call last)",
      "Input \u001b[0;32mIn [14]\u001b[0m, in \u001b[0;36m<module>\u001b[0;34m\u001b[0m\n\u001b[1;32m      1\u001b[0m \u001b[38;5;28;01mfor\u001b[39;00m file_name, dataframe \u001b[38;5;129;01min\u001b[39;00m loaded_files\u001b[38;5;241m.\u001b[39mitems():\n\u001b[0;32m----> 2\u001b[0m     dataframe\u001b[38;5;241m.\u001b[39mcolumns \u001b[38;5;241m=\u001b[39m \u001b[43mremove_percentage_signal\u001b[49m\u001b[43m(\u001b[49m\u001b[43mdataframe\u001b[49m\u001b[43m)\u001b[49m\n",
      "Input \u001b[0;32mIn [13]\u001b[0m, in \u001b[0;36mlog_fn.<locals>.decorator.<locals>.wrapper\u001b[0;34m(*args, **kwargs)\u001b[0m\n\u001b[1;32m      3\u001b[0m \u001b[38;5;129m@wraps\u001b[39m(f)\n\u001b[1;32m      4\u001b[0m \u001b[38;5;28;01mdef\u001b[39;00m \u001b[38;5;21mwrapper\u001b[39m(\u001b[38;5;241m*\u001b[39margs, \u001b[38;5;241m*\u001b[39m\u001b[38;5;241m*\u001b[39mkwargs):\n\u001b[0;32m----> 5\u001b[0m     res \u001b[38;5;241m=\u001b[39m \u001b[43mf\u001b[49m\u001b[43m(\u001b[49m\u001b[38;5;241;43m*\u001b[39;49m\u001b[43margs\u001b[49m\u001b[43m,\u001b[49m\u001b[43m \u001b[49m\u001b[38;5;241;43m*\u001b[39;49m\u001b[38;5;241;43m*\u001b[39;49m\u001b[43mkwargs\u001b[49m\u001b[43m)\u001b[49m\n\u001b[1;32m      6\u001b[0m     logging\u001b[38;5;241m.\u001b[39minfo(\u001b[38;5;124m\"\u001b[39m\u001b[38;5;124mTestando funcao\u001b[39m\u001b[38;5;124m\"\u001b[39m)\n\u001b[1;32m      7\u001b[0m     \u001b[38;5;28mprint\u001b[39m(function)\n",
      "Input \u001b[0;32mIn [13]\u001b[0m, in \u001b[0;36mremove_percentage_signal\u001b[0;34m(df)\u001b[0m\n\u001b[1;32m     72\u001b[0m \u001b[38;5;129m@log_fn\u001b[39m(\u001b[38;5;124m\"\u001b[39m\u001b[38;5;124mremove_percentage_signal\u001b[39m\u001b[38;5;124m\"\u001b[39m)\n\u001b[1;32m     73\u001b[0m \u001b[38;5;28;01mdef\u001b[39;00m \u001b[38;5;21mremove_percentage_signal\u001b[39m(df):\n\u001b[1;32m     74\u001b[0m     df_columns \u001b[38;5;241m=\u001b[39m df\u001b[38;5;241m.\u001b[39mcolumns\u001b[38;5;241m.\u001b[39mstr\n\u001b[0;32m---> 75\u001b[0m     df_columns \u001b[38;5;241m=\u001b[39m \u001b[43mdf_columns\u001b[49m\u001b[38;5;241;43m.\u001b[39;49m\u001b[43mstr\u001b[49m\u001b[38;5;241m.\u001b[39mreplace(\u001b[38;5;124m\"\u001b[39m\u001b[38;5;124m%\u001b[39m\u001b[38;5;124m\"\u001b[39m, \u001b[38;5;124m\"\u001b[39m\u001b[38;5;124mpercentage\u001b[39m\u001b[38;5;124m\"\u001b[39m)\n\u001b[1;32m     76\u001b[0m     \u001b[38;5;28;01mreturn\u001b[39;00m df_columns\n",
      "\u001b[0;31mAttributeError\u001b[0m: 'StringMethods' object has no attribute 'str'"
     ]
    }
   ],
   "source": [
    "for file_name, dataframe in loaded_files.items():\n",
    "    dataframe.columns = remove_percentage_signal(dataframe)"
   ]
  },
  {
   "cell_type": "markdown",
   "id": "4a44fc6b",
   "metadata": {},
   "source": [
    "---\n",
    "# Round data to 2 decimal places"
   ]
  },
  {
   "cell_type": "code",
   "execution_count": null,
   "id": "1b2845df",
   "metadata": {
    "scrolled": true
   },
   "outputs": [],
   "source": [
    "for file_name, dataframe in loaded_files.items():\n",
    "    dataframe = dataframe.round(2)"
   ]
  },
  {
   "cell_type": "markdown",
   "id": "de618f74",
   "metadata": {},
   "source": [
    "---\n",
    "# Save Correct dataframe to output"
   ]
  },
  {
   "cell_type": "code",
   "execution_count": null,
   "id": "76cf33a5",
   "metadata": {},
   "outputs": [],
   "source": [
    "for file_name, dataframe in loaded_files.items():\n",
    "    dataframe.to_parquet(f\"../output/{file_name}.parquet\")"
   ]
  },
  {
   "cell_type": "code",
   "execution_count": null,
   "id": "2be4b61b",
   "metadata": {
    "scrolled": true
   },
   "outputs": [],
   "source": [
    "for file_name, dataframe in table_architecture.items():\n",
    "    dataframe.to_csv(f\"../output/dictionary/{file_name}.csv\", index=False)"
   ]
  }
 ],
 "metadata": {
  "kernelspec": {
   "display_name": "Python 3 (ipykernel)",
   "language": "python",
   "name": "python3"
  },
  "language_info": {
   "codemirror_mode": {
    "name": "ipython",
    "version": 3
   },
   "file_extension": ".py",
   "mimetype": "text/x-python",
   "name": "python",
   "nbconvert_exporter": "python",
   "pygments_lexer": "ipython3",
   "version": "3.8.10"
  }
 },
 "nbformat": 4,
 "nbformat_minor": 5
}
